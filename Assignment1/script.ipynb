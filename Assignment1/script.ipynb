{
    "cells": [
        {
            "cell_type": "code",
            "execution_count": 1,
            "metadata": {},
            "outputs": [],
            "source": [
                "import pandas as pd\n",
                "df = pd.read_csv('https://raw.githubusercontent.com/frankData612/data_612/master/stock_data/stocks_yahoo.csv')"
                ]
            }
        ]
    }
    
print(df.head(20))

print(df.tail(15))

print(df.columns)

print(df.dtypes)

print(df.shape)

print(df.groupby('date')['beta (3Y Monthly)'].mean())
