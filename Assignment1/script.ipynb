{
    "cells": [
        {
            "cell_type": "code",
            "execution_count": 1,
            "metadata": {},
            "outputs": [],
            "source": [
                "import pandas as pd\n",
                "df = pd.read_csv('https://raw.githubusercontent.com/frankData612/data_612/master/stock_data/stocks_yahoo.csv')"
                ]
            },
            {
            	"cell_type": "code",
            	"execution_count": 2,
            	"metadata": {},
            	"outputs": [],
            	"source": ["df.head(20)"
            	]
            }
            {
            	"cell_type": "code",
            	"execution_count": 3,
            	"metadata": {},
            	"outputs": [],
            	"source": ["df.tail(15)"
            	]
            }
            {
            	"cell_type": "code",
            	"execution_count": 4,
            	"metadata": {},
            	"outputs": [],
            	"source": ["df.columns"
            	]
            }
            {
            	"cell_type": "code",
            	"execution_count": 5,
            	"metadata": {},
            	"outputs": [],
            	"source": ["df.dtypes"
            	]
            }
            {
            	"cell_type": "code",
            	"execution_count": 6,
            	"metadata": {},
            	"outputs": [],
            	"source": ["df.shape"
            	]
            }
            {
            	"cell_type": "code",
            	"execution_count": 7,
            	"metadata": {},
            	"outputs": [],
            	"source": ["df.groupby('date')['beta (3Y Monthly)'].mean()"
            	]
            }
        ]
}
