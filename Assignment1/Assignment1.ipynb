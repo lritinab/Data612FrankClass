import pandas as pd

df = pd.read_csv('https://raw.githubusercontent.com/frankData612/data_612/master/stock_data/stocks_yahoo.csv')
