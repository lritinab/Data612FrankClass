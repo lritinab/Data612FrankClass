{
  "nbformat": 4,
  "nbformat_minor": 0,
  "metadata": {
    "colab": {
      "name": "Brown_assignment5.ipynb",
      "provenance": []
    },
    "kernelspec": {
      "name": "python3",
      "display_name": "Python 3"
    }
  },
  "cells": [
    {
      "cell_type": "code",
      "metadata": {
        "colab": {
          "base_uri": "https://localhost:8080/"
        },
        "id": "0j_stso08hVR",
        "outputId": "8b95067b-aeac-4999-d5e5-42051068327a"
      },
      "source": [
        "import pandas as pd\n",
        "\n",
        "df = pd.read_csv('https://raw.githubusercontent.com/frankData612/data_612/master/stock_data/stocks_yahoo.csv')\n",
        "\n",
        "df.dtypes"
      ],
      "execution_count": 1,
      "outputs": [
        {
          "output_type": "execute_result",
          "data": {
            "text/plain": [
              "no                     int64\n",
              "date                  object\n",
              "company_name          object\n",
              "price_at_close        object\n",
              "price_change          object\n",
              "price_after_hours     object\n",
              "previous_close        object\n",
              "today opened          object\n",
              "price range           object\n",
              "52 week range         object\n",
              "volume                object\n",
              "average volume        object\n",
              "market cap            object\n",
              "beta (3Y Monthly)    float64\n",
              "PE Ratio              object\n",
              "EPS                   object\n",
              "earnings date         object\n",
              "Dividend Yield        object\n",
              "1Y target est         object\n",
              "dtype: object"
            ]
          },
          "metadata": {
            "tags": []
          },
          "execution_count": 1
        }
      ]
    },
    {
      "cell_type": "code",
      "metadata": {
        "colab": {
          "base_uri": "https://localhost:8080/"
        },
        "id": "ssm4NjAxAri_",
        "outputId": "2dd9092f-9880-4ef6-ffc4-2821d29b44a3"
      },
      "source": [
        "dg = df['company_name'].str.split(\"- \", n=1, expand=True)\n",
        "df['Symbol'] = dg[0]\n",
        "df['company_name'] = dg[1]\n",
        "df['company_name'] = df.company_name.astype('category')\n",
        "\n",
        "dh = df['52 week range'].str.split(\"- \", n=1, expand=True)\n",
        "df['52_week_range_lo'] = dh[0]\n",
        "df['52_week_range_hi'] = dh[1]\n",
        "\n",
        "di = df['price_change'].str.split(\"(\", n=1, expand=True)\n",
        "df['price_change_amt'] = di[0].str.strip(\",\")\n",
        "df['price_change_prct'] = di[1]\n",
        "df['price_change_prct'] = df.price_change_prct.str.strip('%)')\n",
        "df['price_change_prct'] = df.price_change_prct.astype('float')\n",
        "\n",
        "dj = df['price range'].str.split(\"- \", n=1, expand=True)\n",
        "df['price_range_lo'] = dj[0]\n",
        "df['price_range_hi'] = dj[1]\n",
        "\n",
        "df.drop(columns=[\"52 week range\", \"price_change\", \"price_change\"], inplace=True)\n",
        "df['date'] = pd.to_datetime(df['date'], format='%b %d %Y')\n",
        "df['no'] = df.no.astype(str)\n",
        "df.dtypes"
      ],
      "execution_count": 2,
      "outputs": [
        {
          "output_type": "execute_result",
          "data": {
            "text/plain": [
              "no                           object\n",
              "date                 datetime64[ns]\n",
              "company_name               category\n",
              "price_at_close               object\n",
              "price_after_hours            object\n",
              "previous_close               object\n",
              "today opened                 object\n",
              "price range                  object\n",
              "volume                       object\n",
              "average volume               object\n",
              "market cap                   object\n",
              "beta (3Y Monthly)           float64\n",
              "PE Ratio                     object\n",
              "EPS                          object\n",
              "earnings date                object\n",
              "Dividend Yield               object\n",
              "1Y target est                object\n",
              "Symbol                       object\n",
              "52_week_range_lo             object\n",
              "52_week_range_hi             object\n",
              "price_change_amt             object\n",
              "price_change_prct           float64\n",
              "price_range_lo               object\n",
              "price_range_hi               object\n",
              "dtype: object"
            ]
          },
          "metadata": {
            "tags": []
          },
          "execution_count": 2
        }
      ]
    }
  ]
}